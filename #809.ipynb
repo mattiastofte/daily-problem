{
 "cells": [
  {
   "cell_type": "markdown",
   "metadata": {},
   "source": [
    "This problem was asked by Facebook.\n",
    "\n",
    "Given a string of round, curly, and square open and closing brackets, return whether the brackets are balanced (well-formed).\n",
    "\n",
    "For example, given the string \"([])[]({})\", you should return true.\n",
    "\n",
    "Given the string \"([)]\" or \"((()\", you should return false."
   ]
  },
  {
   "cell_type": "code",
   "execution_count": 63,
   "metadata": {},
   "outputs": [
    {
     "name": "stdout",
     "output_type": "stream",
     "text": [
      "[0]\n",
      "[0, 1]\n",
      "[0, 1]\n"
     ]
    },
    {
     "data": {
      "text/plain": [
       "False"
      ]
     },
     "execution_count": 63,
     "metadata": {},
     "output_type": "execute_result"
    }
   ],
   "source": [
    "x = '([)]'\n",
    "y = '([])[]({})'\n",
    "start_brackets = ['(','[','{']\n",
    "end_brackets = [')',']','}']\n",
    "\n",
    "def check_balance_2(z):\n",
    "    brackets = []\n",
    "    length = len(z)\n",
    "    if length%2 != 0:\n",
    "        return False\n",
    "    else:\n",
    "        for i in range(int(length)):\n",
    "            if z[i] in start_brackets:\n",
    "                brackets.append(start_brackets.index(z[i]))\n",
    "            else:\n",
    "                if z[i] == end_brackets[brackets[-1]]:\n",
    "                    del end_brackets[-1]\n",
    "                else:\n",
    "                    return False\n",
    "            print(brackets)\n",
    "        return True\n",
    "\n",
    "def check_balance(z):\n",
    "    used_indexes = []\n",
    "    length = len(z)\n",
    "    if length%2 != 0:\n",
    "        return False\n",
    "    else:\n",
    "        for i in range(int(length)):\n",
    "            cleared = False\n",
    "            scroll = i+1\n",
    "            if len(used_indexes) > 0:\n",
    "                if scroll > used_indexes[-1]:\n",
    "                    cleared = True\n",
    "            if z[i] in start_brackets:\n",
    "                bracket_type = start_brackets.index(z[i])\n",
    "                partnered = False\n",
    "                while scroll < length:\n",
    "                    if len(used_indexes) > 0:\n",
    "                        if scroll > used_indexes[-1] and cleared == False:\n",
    "                            print(f'index {scroll} is out of bounds')\n",
    "                            return False\n",
    "                    if z[scroll] == end_brackets[bracket_type]:\n",
    "                        used_indexes.append(scroll)\n",
    "                        partnered = True\n",
    "                        break\n",
    "                    else:\n",
    "                        pass\n",
    "                    scroll += 1\n",
    "                if partnered:\n",
    "                    print(f'{z[i]} (index: {i}) is partnered with {z[scroll]} (index: {scroll})')\n",
    "                    pass\n",
    "                else:\n",
    "                    print(f'{z[i]} (index: {i}) doesnt have a partner')\n",
    "                    return False    \n",
    "            else:\n",
    "                if i in used_indexes:\n",
    "                    pass\n",
    "                else:\n",
    "                    print(f'index {i} is not used in {used_indexes}')\n",
    "                    return False\n",
    "        return True\n",
    "\n",
    "check_balance_2(y)"
   ]
  }
 ],
 "metadata": {
  "language_info": {
   "name": "python",
   "nbconvert_exporter": "python"
  },
  "orig_nbformat": 4
 },
 "nbformat": 4,
 "nbformat_minor": 2
}